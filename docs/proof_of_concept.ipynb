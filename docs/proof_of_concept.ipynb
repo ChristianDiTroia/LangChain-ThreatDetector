{
 "cells": [
  {
   "cell_type": "code",
   "execution_count": 46,
   "id": "646c1cb8",
   "metadata": {},
   "outputs": [
    {
     "data": {
      "text/plain": [
       "True"
      ]
     },
     "execution_count": 46,
     "metadata": {},
     "output_type": "execute_result"
    }
   ],
   "source": [
    "from langchain_core.messages import SystemMessage\n",
    "from langchain_core.prompts import ChatPromptTemplate\n",
    "from langchain_groq import ChatGroq\n",
    "from dotenv import load_dotenv\n",
    "\n",
    "import json\n",
    "\n",
    "load_dotenv()"
   ]
  },
  {
   "cell_type": "markdown",
   "id": "a3558dc9",
   "metadata": {},
   "source": [
    "## Init models"
   ]
  },
  {
   "cell_type": "code",
   "execution_count": 47,
   "id": "3c5b0408",
   "metadata": {},
   "outputs": [],
   "source": [
    "sentiment_analysis_model = ChatGroq(model=\"llama-3.3-70b-versatile\", model_kwargs={\"response_format\": {\"type\": \"json_object\"}})\n",
    "feature_extraction_model = ChatGroq(model=\"gemma2-9b-it\",  model_kwargs={\"response_format\": {\"type\": \"json_object\"}})"
   ]
  },
  {
   "cell_type": "markdown",
   "id": "0580ceb1",
   "metadata": {},
   "source": [
    "## Create prompt templates"
   ]
  },
  {
   "cell_type": "code",
   "execution_count": 65,
   "id": "69a8003f",
   "metadata": {},
   "outputs": [],
   "source": [
    "sentiment_analysis_system_message = SystemMessage(\"You are an emotion analysis bot. Your job is to perform sentiment analysis on the given text and identify the top 5 emotions present. \" \\\n",
    "                                                    \"Your response should be in the form of a JSON object with a single attribute called 'sentiments' \" \\\n",
    "                                                    \"which contains an array of the top 5 emotions in order from most prevalent to least prevalent.\" \\\n",
    "                                                    \" Each emotion should be an ordered pair of strings with the first element as the emotion and the second\" \\\n",
    "                                                    \" as a rating of the emotion. The rating can only be 'positive', 'neutral', or 'negative'.\")\n",
    "sentiment_analysis_template = ChatPromptTemplate.from_messages([sentiment_analysis_system_message, (\"user\", \"{input}\")])"
   ]
  },
  {
   "cell_type": "code",
   "execution_count": 49,
   "id": "609befa3",
   "metadata": {},
   "outputs": [],
   "source": [
    "action_extraction_system_message = SystemMessage(\"You are a textual analysis bot. Your job is to find every phrase in the given text that may indicate the intent for action. \" \\\n",
    "                                                    \"Return a JSON object containing every phrase that you find to be actionable. Be liberal with your analysis, as these can be phrases without verbs.\")\n",
    "action_extraction_template = ChatPromptTemplate.from_messages([action_extraction_system_message, (\"user\", \"{input}\")])"
   ]
  },
  {
   "cell_type": "code",
   "execution_count": null,
   "id": "2575ccd1",
   "metadata": {},
   "outputs": [],
   "source": [
    "danger_extraction_system_message = SystemMessage(\"You are a text extraction bot. Your job is to find and extract every word in the given text which\" \\\n",
    "                                                    \" may convey danger, violence, or harm. Only extract these words and return them in the form of a JSON object\" \\\n",
    "                                                    \" with a single attribute called 'danger_words' containing an array of the words you have extracted ordered from\"\n",
    "                                                    \" most to least dangerous/violent/harmful. This list can be empty if no danger words are found.\")\n",
    "danger_extraction_template = ChatPromptTemplate.from_messages([danger_extraction_system_message, (\"user\", \"{input}\")])"
   ]
  },
  {
   "cell_type": "markdown",
   "id": "263ed6d8",
   "metadata": {},
   "source": [
    "## Invoke models"
   ]
  },
  {
   "cell_type": "code",
   "execution_count": 51,
   "id": "22ee16d7",
   "metadata": {},
   "outputs": [
    {
     "data": {
      "text/plain": [
       "ChatPromptValue(messages=[SystemMessage(content=\"You are an emotion analysis bot. Your job is to perform sentiment analysis on the given text and identify the top 5 emotions present. Your response should be in the form of a JSON object with a single attribute called 'sentiments' which contains an array of the top 5 emotions in order from most prevalent to least prevalent. Each emotion should be an ordered pair as a tuple, with the first element as the emotion itself and the second as a rating of the emotion. The rating can only be 'positive', 'neutral', or 'negative'.\", additional_kwargs={}, response_metadata={}), HumanMessage(content='I am so happy today, I feel like I can conquer the world!', additional_kwargs={}, response_metadata={})])"
      ]
     },
     "execution_count": 51,
     "metadata": {},
     "output_type": "execute_result"
    }
   ],
   "source": [
    "sentiment_prompt = sentiment_analysis_template.invoke({\"input\": \"I am so happy today, I feel like I can conquer the world!\"})\n",
    "sentiment_prompt"
   ]
  },
  {
   "cell_type": "code",
   "execution_count": 52,
   "id": "0b68e75e",
   "metadata": {},
   "outputs": [
    {
     "data": {
      "text/plain": [
       "ChatPromptValue(messages=[SystemMessage(content='You are a textual analysis bot. Your job is to find every phrase in the given text that may indicate the intent for action. Return a JSON object containing every phrase that you find to be actionable. Be liberal with your analysis, as these can be phrases without verbs.', additional_kwargs={}, response_metadata={}), HumanMessage(content='I am going to the store to buy some milk. I also need to pick up some bread and eggs. Then at 7:30 I will go to the gym for a workout.', additional_kwargs={}, response_metadata={})])"
      ]
     },
     "execution_count": 52,
     "metadata": {},
     "output_type": "execute_result"
    }
   ],
   "source": [
    "action_extraction_prompt = action_extraction_template.invoke({\"input\": \"I am going to the store to buy some milk. I also need to pick up some bread and eggs. Then at 7:30 I will go to the gym for a workout.\"})\n",
    "action_extraction_prompt"
   ]
  },
  {
   "cell_type": "code",
   "execution_count": 53,
   "id": "23f20cd7",
   "metadata": {},
   "outputs": [
    {
     "data": {
      "text/plain": [
       "ChatPromptValue(messages=[SystemMessage(content=\"You are a text extraction bot. Your job is to find and extract every word in the given text which may convey danger, violence, or harm. Only extract these words and return them in the form of a JSON object with a single attribute called 'danger_words' containing an array of the words you have extracted ordered from most to least dangerous/violent/harmful. This may be empty if no danger words are found.\", additional_kwargs={}, response_metadata={}), HumanMessage(content='This is going to be fun, time to spar with my friends in the boxing ring. I really think I can beat them!', additional_kwargs={}, response_metadata={})])"
      ]
     },
     "execution_count": 53,
     "metadata": {},
     "output_type": "execute_result"
    }
   ],
   "source": [
    "danger_extraction_prompt = danger_extraction_template.invoke({\"input\": \"This is going to be fun, time to spar with my friends in the boxing ring. I really think I can beat them!\"})\n",
    "danger_extraction_prompt"
   ]
  },
  {
   "cell_type": "code",
   "execution_count": 54,
   "id": "6a6a53e6",
   "metadata": {},
   "outputs": [
    {
     "name": "stdout",
     "output_type": "stream",
     "text": [
      "{\n",
      "   \"sentiments\": [\n",
      "      [\"Happiness\", \"positive\"],\n",
      "      [\"Optimism\", \"positive\"],\n",
      "      [\"Excitement\", \"positive\"],\n",
      "      [\"Confidence\", \"positive\"],\n",
      "      [\"Euphoria\", \"positive\"]\n",
      "   ]\n",
      "}\n"
     ]
    }
   ],
   "source": [
    "sentiment_analysis = sentiment_analysis_model.invoke(sentiment_prompt)\n",
    "print(sentiment_analysis.content)"
   ]
  },
  {
   "cell_type": "code",
   "execution_count": null,
   "id": "b3746857",
   "metadata": {},
   "outputs": [
    {
     "name": "stdout",
     "output_type": "stream",
     "text": [
      "{\n",
      "  \"actionable_phrases\": [\n",
      "    \"going to the store to buy some milk\",\n",
      "    \"need to pick up some bread and eggs\",\n",
      "    \"will go to the gym for a workout\"\n",
      "  ]\n",
      "}\n"
     ]
    },
    {
     "data": {
      "text/plain": [
       "ChatPromptValue(messages=[SystemMessage(content=\"You are an emotion analysis bot. Your job is to perform sentiment analysis on the given text and identify the top 5 emotions present. Your response should be in the form of a JSON object with a single attribute called 'sentiments' which contains an array of the top 5 emotions in order from most prevalent to least prevalent. Each emotion should be an ordered pair as a tuple, with the first element as the emotion itself and the second as a rating of the emotion. The rating can only be 'positive', 'neutral', or 'negative'.\", additional_kwargs={}, response_metadata={}), HumanMessage(content='', additional_kwargs={}, response_metadata={})])"
      ]
     },
     "execution_count": 56,
     "metadata": {},
     "output_type": "execute_result"
    }
   ],
   "source": [
    "action_extraction = feature_extraction_model.invoke(action_extraction_prompt)\n",
    "print(action_extraction.content)"
   ]
  },
  {
   "cell_type": "code",
   "execution_count": 78,
   "id": "e069ea43",
   "metadata": {},
   "outputs": [
    {
     "name": "stdout",
     "output_type": "stream",
     "text": [
      "going to the store to buy some milk.\n",
      "need to pick up some bread and eggs.\n",
      "will go to the gym for a workout\n",
      "messages=[SystemMessage(content=\"You are an emotion analysis bot. Your job is to perform sentiment analysis on the given text and identify the top 5 emotions present. Your response should be in the form of a JSON object with a single attribute called 'sentiments' which contains an array of the top 5 emotions in order from most prevalent to least prevalent. Each emotion should be an ordered pair of strings with the first element as the emotion and the second as a rating of the emotion. The rating can only be 'positive', 'neutral', or 'negative'.\", additional_kwargs={}, response_metadata={}), HumanMessage(content='going to the store to buy some milk.\\nneed to pick up some bread and eggs.\\nwill go to the gym for a workout', additional_kwargs={}, response_metadata={})]\n",
      "{\n",
      "   \"sentiments\": [\n",
      "      [\"Neutrality\", \"neutral\"],\n",
      "      [\"Determination\", \"positive\"],\n",
      "      [\"Routine\", \"neutral\"],\n",
      "      [\"Necessity\", \"neutral\"],\n",
      "      [\"Motivation\", \"positive\"]\n",
      "   ]\n",
      "}\n"
     ]
    }
   ],
   "source": [
    "action_phrases = json.loads(action_extraction.content)\n",
    "\n",
    "actions = \".\\n\".join(action_phrases[\"actionable_phrases\"])\n",
    "print(actions)\n",
    "\n",
    "action_sentiment_prompt = sentiment_analysis_template.invoke({\"input\": actions})\n",
    "print(action_sentiment_prompt)\n",
    "action_sentiment_analysis = sentiment_analysis_model.invoke(action_sentiment_prompt)\n",
    "print(action_sentiment_analysis.content)"
   ]
  },
  {
   "cell_type": "code",
   "execution_count": 80,
   "id": "85d40361",
   "metadata": {},
   "outputs": [
    {
     "name": "stdout",
     "output_type": "stream",
     "text": [
      "{\n",
      "  \"danger_words\": []\n",
      "}\n"
     ]
    }
   ],
   "source": [
    "danger_words_prompt = danger_extraction_template.invoke({\"input\": actions})\n",
    "actionable_danger_words = feature_extraction_model.invoke(danger_words_prompt)\n",
    "print(actionable_danger_words.content)"
   ]
  },
  {
   "cell_type": "code",
   "execution_count": null,
   "id": "10fbadb8",
   "metadata": {},
   "outputs": [
    {
     "name": "stdout",
     "output_type": "stream",
     "text": [
      "{\n",
      "  \"danger_words\": [\n",
      "    \"spar\",\n",
      "    \"boxing\",\n",
      "    \"beat\"\n",
      "  ]\n",
      "}\n"
     ]
    }
   ],
   "source": [
    "danger_extraction = feature_extraction_model.invoke(danger_extraction_prompt)\n",
    "print(danger_extraction.content)"
   ]
  },
  {
   "cell_type": "code",
   "execution_count": null,
   "id": "2d9ff8d4",
   "metadata": {},
   "outputs": [],
   "source": []
  }
 ],
 "metadata": {
  "kernelspec": {
   "display_name": ".venv",
   "language": "python",
   "name": "python3"
  },
  "language_info": {
   "codemirror_mode": {
    "name": "ipython",
    "version": 3
   },
   "file_extension": ".py",
   "mimetype": "text/x-python",
   "name": "python",
   "nbconvert_exporter": "python",
   "pygments_lexer": "ipython3",
   "version": "3.13.4"
  }
 },
 "nbformat": 4,
 "nbformat_minor": 5
}
