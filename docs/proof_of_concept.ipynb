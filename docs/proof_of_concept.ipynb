{
 "cells": [
  {
   "cell_type": "code",
   "execution_count": 1,
   "id": "646c1cb8",
   "metadata": {},
   "outputs": [
    {
     "data": {
      "text/plain": [
       "True"
      ]
     },
     "execution_count": 1,
     "metadata": {},
     "output_type": "execute_result"
    }
   ],
   "source": [
    "from langchain_core.messages import SystemMessage\n",
    "from langchain_core.prompts import ChatPromptTemplate\n",
    "from langchain_groq import ChatGroq\n",
    "from dotenv import load_dotenv\n",
    "\n",
    "load_dotenv()"
   ]
  },
  {
   "cell_type": "markdown",
   "id": "a3558dc9",
   "metadata": {},
   "source": [
    "## Init models"
   ]
  },
  {
   "cell_type": "code",
   "execution_count": 2,
   "id": "3c5b0408",
   "metadata": {},
   "outputs": [],
   "source": [
    "sentiment_analysis_model = ChatGroq(model=\"llama-3.3-70b-versatile\", model_kwargs={\"response_format\": {\"type\": \"json_object\"}})\n",
    "feature_extraction_model = ChatGroq(model=\"gemma2-9b-it\",  model_kwargs={\"response_format\": {\"type\": \"json_object\"}})"
   ]
  },
  {
   "cell_type": "markdown",
   "id": "0580ceb1",
   "metadata": {},
   "source": [
    "## Create prompt templates"
   ]
  },
  {
   "cell_type": "code",
   "execution_count": 3,
   "id": "69a8003f",
   "metadata": {},
   "outputs": [],
   "source": [
    "sentiment_analysis_system_message = SystemMessage(\"You are an emotion analysis bot. Your job is to perform sentiment analysis on the given text and identify the top 5 emotions present. \" \\\n",
    "                                                    \"Your response should be in the form of a JSON object with a single attribute called 'sentiments' \" \\\n",
    "                                                    \"which contains an array of the top 5 emotions in order from most prevalent to least prevalent.\")\n",
    "sentiment_analysis_template = ChatPromptTemplate.from_messages([sentiment_analysis_system_message, (\"user\", \"{input}\")])"
   ]
  },
  {
   "cell_type": "code",
   "execution_count": 4,
   "id": "609befa3",
   "metadata": {},
   "outputs": [],
   "source": [
    "feature_extraction_system_message = SystemMessage(\"You are a textual analysis bot. Your job is to find every phrase in the given text that may indicate the intent for action. \" \\\n",
    "                                                    \"Return a JSON object containing every phrase that you find to be actionable. Be liberal with your analysis, as these can be phrases without verbs.\")\n",
    "feature_extraction_template = ChatPromptTemplate.from_messages([feature_extraction_system_message, (\"user\", \"{input}\")])"
   ]
  },
  {
   "cell_type": "markdown",
   "id": "263ed6d8",
   "metadata": {},
   "source": [
    "## Invoke models"
   ]
  },
  {
   "cell_type": "code",
   "execution_count": 5,
   "id": "22ee16d7",
   "metadata": {},
   "outputs": [
    {
     "data": {
      "text/plain": [
       "ChatPromptValue(messages=[SystemMessage(content=\"You are an emotion analysis bot. Your job is to perform sentiment analysis on the given text and identify the top 5 emotions present. Your response should be in the form of a JSON object with a single attribute called 'sentiments' which contains an array of the top 5 emotions in order from most prevalent to least prevalent.\", additional_kwargs={}, response_metadata={}), HumanMessage(content='I am so happy today, I feel like I can conquer the world!', additional_kwargs={}, response_metadata={})])"
      ]
     },
     "execution_count": 5,
     "metadata": {},
     "output_type": "execute_result"
    }
   ],
   "source": [
    "sentiment_prompt = sentiment_analysis_template.invoke({\"input\": \"I am so happy today, I feel like I can conquer the world!\"})\n",
    "sentiment_prompt"
   ]
  },
  {
   "cell_type": "code",
   "execution_count": 6,
   "id": "0b68e75e",
   "metadata": {},
   "outputs": [
    {
     "data": {
      "text/plain": [
       "ChatPromptValue(messages=[SystemMessage(content='You are a textual analysis bot. Your job is to find every phrase in the given text that may indicate the intent for action. Return a JSON object containing every phrase that you find to be actionable. Be liberal with your analysis, as these can be phrases without verbs.', additional_kwargs={}, response_metadata={}), HumanMessage(content='I am going to the store to buy some milk. I also need to pick up some bread and eggs. Then at 7:30 I will go to the gym for a workout.', additional_kwargs={}, response_metadata={})])"
      ]
     },
     "execution_count": 6,
     "metadata": {},
     "output_type": "execute_result"
    }
   ],
   "source": [
    "extraction_prompt = feature_extraction_template.invoke({\"input\": \"I am going to the store to buy some milk. I also need to pick up some bread and eggs. Then at 7:30 I will go to the gym for a workout.\"})\n",
    "extraction_prompt"
   ]
  },
  {
   "cell_type": "code",
   "execution_count": 7,
   "id": "6a6a53e6",
   "metadata": {},
   "outputs": [
    {
     "name": "stdout",
     "output_type": "stream",
     "text": [
      "{\n",
      "   \"sentiments\": [\n",
      "       \"Happiness\",\n",
      "       \"Excitement\",\n",
      "       \"Optimism\",\n",
      "       \"Confidence\",\n",
      "       \"Euphoria\"\n",
      "   ]\n",
      "}\n"
     ]
    }
   ],
   "source": [
    "sentiment_analysis = sentiment_analysis_model.invoke(sentiment_prompt)\n",
    "print(sentiment_analysis.content)"
   ]
  },
  {
   "cell_type": "code",
   "execution_count": 8,
   "id": "b3746857",
   "metadata": {},
   "outputs": [
    {
     "name": "stdout",
     "output_type": "stream",
     "text": [
      "{\n",
      "  \"actionable_phrases\": [\n",
      "    \"going to the store\",\n",
      "    \"buy some milk\",\n",
      "    \"pick up some bread\",\n",
      "    \"pick up some eggs\",\n",
      "    \"go to the gym\",\n",
      "    \"workout\"\n",
      "  ]\n",
      "}\n"
     ]
    }
   ],
   "source": [
    "feature_extraction = feature_extraction_model.invoke(extraction_prompt)\n",
    "print(feature_extraction.content)"
   ]
  },
  {
   "cell_type": "code",
   "execution_count": null,
   "id": "10fbadb8",
   "metadata": {},
   "outputs": [],
   "source": []
  }
 ],
 "metadata": {
  "kernelspec": {
   "display_name": ".venv",
   "language": "python",
   "name": "python3"
  },
  "language_info": {
   "codemirror_mode": {
    "name": "ipython",
    "version": 3
   },
   "file_extension": ".py",
   "mimetype": "text/x-python",
   "name": "python",
   "nbconvert_exporter": "python",
   "pygments_lexer": "ipython3",
   "version": "3.13.5"
  }
 },
 "nbformat": 4,
 "nbformat_minor": 5
}
