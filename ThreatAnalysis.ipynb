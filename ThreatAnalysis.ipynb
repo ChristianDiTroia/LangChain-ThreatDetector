{
 "cells": [
  {
   "cell_type": "code",
   "execution_count": null,
   "id": "646c1cb8",
   "metadata": {},
   "outputs": [],
   "source": [
    "from langchain_core.messages import HumanMessage, SystemMessage"
   ]
  }
 ],
 "metadata": {
  "kernelspec": {
   "display_name": ".venv",
   "language": "python",
   "name": "python3"
  },
  "language_info": {
   "name": "python",
   "version": "3.13.5"
  }
 },
 "nbformat": 4,
 "nbformat_minor": 5
}
