{
 "cells": [
  {
   "cell_type": "code",
   "execution_count": null,
   "id": "646c1cb8",
   "metadata": {},
   "outputs": [],
   "source": [
    "from langchain_core.messages import HumanMessage, SystemMessage\n",
    "from langchain.llms import HuggingFaceHub\n",
    "\n",
    "HuggingFaceHub(\n",
    "    repo_id=\"google/flan-t5-base\",)"
   ]
  }
 ],
 "metadata": {
  "kernelspec": {
   "display_name": ".venv",
   "language": "python",
   "name": "python3"
  },
  "language_info": {
   "name": "python",
   "version": "3.13.5"
  }
 },
 "nbformat": 4,
 "nbformat_minor": 5
}
